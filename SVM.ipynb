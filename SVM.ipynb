{
 "cells": [
  {
   "cell_type": "code",
   "execution_count": 1,
   "metadata": {},
   "outputs": [],
   "source": [
    "from sklearn.model_selection import train_test_split, StratifiedKFold, GridSearchCV\n",
    "from sklearn.svm import SVC\n",
    "from sklearn.metrics import (confusion_matrix, \n",
    "                             ConfusionMatrixDisplay, \n",
    "                             classification_report, \n",
    "                             RocCurveDisplay,\n",
    "                             roc_curve,\n",
    "                             r2_score,\n",
    "                             mean_squared_error,\n",
    "                             auc, accuracy_score)\n",
    "import warnings\n",
    "warnings.filterwarnings('ignore')\n",
    "import pandas as pd\n",
    "from scipy.io.arff import loadarff "
   ]
  },
  {
   "cell_type": "markdown",
   "metadata": {},
   "source": [
    "## Pre-settings"
   ]
  },
  {
   "cell_type": "markdown",
   "metadata": {},
   "source": [
    "Carrega base:"
   ]
  },
  {
   "cell_type": "code",
   "execution_count": 2,
   "metadata": {},
   "outputs": [],
   "source": [
    "df_data = pd.DataFrame(loadarff('dataset_6_letter.arff')[0])\n",
    "df_data['class'] = df_data['class'].astype(str).str.extract(\"b'([A-Z])'\")"
   ]
  },
  {
   "cell_type": "markdown",
   "metadata": {},
   "source": [
    "Converte coluna de classificação de categórica para numérica:"
   ]
  },
  {
   "cell_type": "code",
   "execution_count": 3,
   "metadata": {},
   "outputs": [],
   "source": [
    "df_data['class'] = pd.factorize(df_data['class'])[0]"
   ]
  },
  {
   "cell_type": "markdown",
   "metadata": {},
   "source": [
    "Separa colunas de features (X) e coluna de classificação (y):"
   ]
  },
  {
   "cell_type": "code",
   "execution_count": 4,
   "metadata": {},
   "outputs": [],
   "source": [
    "# Features\n",
    "X = df_data.iloc[:,0:-1]\n",
    "# Class\n",
    "y = df_data.iloc[:,-1]"
   ]
  },
  {
   "cell_type": "markdown",
   "metadata": {},
   "source": [
    "Divide conjunto de treinamento  (80%) e conjunto de teste (20%):"
   ]
  },
  {
   "cell_type": "code",
   "execution_count": 5,
   "metadata": {},
   "outputs": [],
   "source": [
    "X_train, X_test, y_train, y_test = train_test_split(X, y, test_size=0.2)"
   ]
  },
  {
   "cell_type": "markdown",
   "metadata": {},
   "source": [
    "Configura o stratified K-fold para o cross validation:"
   ]
  },
  {
   "cell_type": "code",
   "execution_count": 6,
   "metadata": {},
   "outputs": [],
   "source": [
    "kf = StratifiedKFold(n_splits=10, shuffle=True, random_state=199)"
   ]
  },
  {
   "cell_type": "markdown",
   "metadata": {},
   "source": [
    "## Grid Search"
   ]
  },
  {
   "cell_type": "code",
   "execution_count": 7,
   "metadata": {},
   "outputs": [
    {
     "name": "stdout",
     "output_type": "stream",
     "text": [
      "Melhor parametro: {'C': 20, 'decision_function_shape': 'ovo', 'kernel': 'rbf'}\n",
      "              precision    recall  f1-score   support\n",
      "\n",
      "           0       0.98      1.00      0.99       145\n",
      "           1       0.97      0.96      0.97       161\n",
      "           2       0.99      0.99      0.99       160\n",
      "           3       0.93      0.91      0.92       159\n",
      "           4       0.96      0.97      0.96       145\n",
      "           5       0.98      0.95      0.97       152\n",
      "           6       0.90      0.98      0.94       163\n",
      "           7       0.99      0.98      0.99       169\n",
      "           8       0.91      0.97      0.94       171\n",
      "           9       0.99      0.97      0.98       177\n",
      "          10       1.00      1.00      1.00       147\n",
      "          11       0.97      0.89      0.93       168\n",
      "          12       0.98      0.94      0.96       155\n",
      "          13       0.98      0.96      0.97       153\n",
      "          14       0.99      1.00      0.99       162\n",
      "          15       0.97      0.97      0.97       147\n",
      "          16       0.96      0.97      0.96       154\n",
      "          17       0.98      0.99      0.99       146\n",
      "          18       0.99      0.97      0.98       143\n",
      "          19       1.00      0.99      0.99       142\n",
      "          20       0.98      0.99      0.99       147\n",
      "          21       1.00      0.96      0.98       163\n",
      "          22       0.98      0.98      0.98       131\n",
      "          23       0.96      0.99      0.97       152\n",
      "          24       0.91      0.94      0.93       145\n",
      "          25       0.97      0.98      0.97       143\n",
      "\n",
      "    accuracy                           0.97      4000\n",
      "   macro avg       0.97      0.97      0.97      4000\n",
      "weighted avg       0.97      0.97      0.97      4000\n",
      "\n"
     ]
    }
   ],
   "source": [
    "model = SVC()\n",
    "\n",
    "parameters = {'C':[1, 20],\n",
    "              'kernel':['linear','rbf','sigmoid'],\n",
    "              'decision_function_shape':['ovo']\n",
    "              }\n",
    "\n",
    "grid = GridSearchCV(estimator = model,             # \n",
    "                    param_grid = parameters,       # dicionário com valores para serem testados (Pares Chave-Valor)\n",
    "                    scoring = 'accuracy',          # métrica de avaliação\n",
    "                    cv = kf)                        # cross-validation\n",
    "\n",
    "grid.fit(X_train, y_train)\n",
    "\n",
    "y_pred = grid.predict(X_test)\n",
    "\n",
    "print(\"Melhor parametro:\", grid.best_params_)         \n",
    "# performance no dataset de teste\n",
    "print(classification_report(y_test, grid.predict(X_test)))"
   ]
  },
  {
   "cell_type": "markdown",
   "metadata": {},
   "source": [
    "## Métricas"
   ]
  },
  {
   "cell_type": "markdown",
   "metadata": {},
   "source": [
    "### Matriz de confusão"
   ]
  },
  {
   "cell_type": "code",
   "execution_count": 8,
   "metadata": {},
   "outputs": [
    {
     "data": {
      "text/plain": [
       "<sklearn.metrics._plot.confusion_matrix.ConfusionMatrixDisplay at 0x12d5e6153d0>"
      ]
     },
     "execution_count": 8,
     "metadata": {},
     "output_type": "execute_result"
    },
    {
     "data": {
      "image/png": "[encoded data removed]",
      "text/plain": [
       "<Figure size 640x480 with 2 Axes>"
      ]
     },
     "metadata": {},
     "output_type": "display_data"
    }
   ],
   "source": [
    "ConfusionMatrixDisplay(confusion_matrix=confusion_matrix(y_test, y_pred, labels=df_data['class'].unique()),display_labels=df_data['class'].unique()).plot()"
   ]
  },
  {
   "cell_type": "markdown",
   "metadata": {},
   "source": [
    "### ROC"
   ]
  },
  {
   "cell_type": "markdown",
   "metadata": {},
   "source": [
    "Não aplicável, pois utiliza-se 16 parâmetros."
   ]
  },
  {
   "cell_type": "code",
   "execution_count": 9,
   "metadata": {},
   "outputs": [],
   "source": [
    "#fpr, tpr, thresholds = roc_curve(y_test, y_pred)\n",
    "##Área sob a curva ROC (AUC)\n",
    "#roc_auc = auc(fpr, tpr)\n",
    "#disp_roc_curve = RocCurveDisplay(fpr=fpr, tpr=tpr, roc_auc=roc_auc,\n",
    "#                                 estimator_name=model.__class__.__name__)\n",
    "#disp_roc_curve.plot()"
   ]
  },
  {
   "cell_type": "markdown",
   "metadata": {},
   "source": [
    "### Erro médio quadrático"
   ]
  },
  {
   "cell_type": "code",
   "execution_count": 10,
   "metadata": {},
   "outputs": [
    {
     "name": "stdout",
     "output_type": "stream",
     "text": [
      "MSE: 3.15675\n"
     ]
    }
   ],
   "source": [
    "print(\"MSE:\", mean_squared_error(y_test, y_pred))"
   ]
  },
  {
   "cell_type": "markdown",
   "metadata": {},
   "source": [
    "### R2 Score"
   ]
  },
  {
   "cell_type": "code",
   "execution_count": 11,
   "metadata": {},
   "outputs": [
    {
     "name": "stdout",
     "output_type": "stream",
     "text": [
      "R2_score: 0.9426961355234988\n"
     ]
    }
   ],
   "source": [
    "print(\"R2_score:\", r2_score(y_test, y_pred))"
   ]
  },
  {
   "cell_type": "markdown",
   "metadata": {},
   "source": [
    "### Accuracy Score"
   ]
  },
  {
   "cell_type": "code",
   "execution_count": 12,
   "metadata": {},
   "outputs": [
    {
     "name": "stdout",
     "output_type": "stream",
     "text": [
      "Accuracy score: 0.96825\n"
     ]
    }
   ],
   "source": [
    "print(\"Accuracy score:\", accuracy_score(y_test,y_pred))"
   ]
  }
 ],
 "metadata": {
  "kernelspec": {
   "display_name": "Python 3",
   "language": "python",
   "name": "python3"
  },
  "language_info": {
   "codemirror_mode": {
    "name": "ipython",
    "version": 3
   },
   "file_extension": ".py",
   "mimetype": "text/x-python",
   "name": "python",
   "nbconvert_exporter": "python",
   "pygments_lexer": "ipython3",
   "version": "3.11.0"
  }
 },
 "nbformat": 4,
 "nbformat_minor": 2
}
