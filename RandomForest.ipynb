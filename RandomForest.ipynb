{
 "cells": [
  {
   "cell_type": "code",
   "execution_count": 1,
   "metadata": {},
   "outputs": [],
   "source": [
    "from sklearn.model_selection import train_test_split, StratifiedKFold, GridSearchCV\n",
    "from sklearn.ensemble import RandomForestClassifier\n",
    "from sklearn.metrics import (confusion_matrix, \n",
    "                             ConfusionMatrixDisplay, \n",
    "                             classification_report, \n",
    "                             RocCurveDisplay,\n",
    "                             roc_curve,\n",
    "                             r2_score,\n",
    "                             mean_squared_error,\n",
    "                             auc, accuracy_score)\n",
    "import warnings\n",
    "warnings.filterwarnings('ignore')\n",
    "import pandas as pd\n",
    "from scipy.io.arff import loadarff "
   ]
  },
  {
   "cell_type": "markdown",
   "metadata": {},
   "source": [
    "## Pre-settings"
   ]
  },
  {
   "cell_type": "markdown",
   "metadata": {},
   "source": [
    "Carrega base:"
   ]
  },
  {
   "cell_type": "code",
   "execution_count": 2,
   "metadata": {},
   "outputs": [],
   "source": [
    "df_data = pd.DataFrame(loadarff('dataset_6_letter.arff')[0])\n",
    "df_data['class'] = df_data['class'].astype(str).str.extract(\"b'([A-Z])'\")"
   ]
  },
  {
   "cell_type": "markdown",
   "metadata": {},
   "source": [
    "Converte coluna de classificação de categórica para numérica:"
   ]
  },
  {
   "cell_type": "code",
   "execution_count": 3,
   "metadata": {},
   "outputs": [],
   "source": [
    "df_data['class'] = pd.factorize(df_data['class'])[0]"
   ]
  },
  {
   "cell_type": "markdown",
   "metadata": {},
   "source": [
    "Separa colunas de features (X) e coluna de classificação (y):"
   ]
  },
  {
   "cell_type": "code",
   "execution_count": 4,
   "metadata": {},
   "outputs": [],
   "source": [
    "# Features\n",
    "X = df_data.iloc[:,0:-1]\n",
    "# Class\n",
    "y = df_data.iloc[:,-1]"
   ]
  },
  {
   "cell_type": "markdown",
   "metadata": {},
   "source": [
    "Divide conjunto de treinamento  (80%) e conjunto de teste (20%):"
   ]
  },
  {
   "cell_type": "code",
   "execution_count": 5,
   "metadata": {},
   "outputs": [],
   "source": [
    "X_train, X_test, y_train, y_test = train_test_split(X, y, test_size=0.2)"
   ]
  },
  {
   "cell_type": "markdown",
   "metadata": {},
   "source": [
    "Configura o stratified K-fold para o cross validation:"
   ]
  },
  {
   "cell_type": "code",
   "execution_count": 6,
   "metadata": {},
   "outputs": [],
   "source": [
    "kf = StratifiedKFold(n_splits=10, shuffle=True, random_state=199)"
   ]
  },
  {
   "cell_type": "markdown",
   "metadata": {},
   "source": [
    "## Grid Search"
   ]
  },
  {
   "cell_type": "code",
   "execution_count": 7,
   "metadata": {},
   "outputs": [
    {
     "name": "stdout",
     "output_type": "stream",
     "text": [
      "Melhores parâmetros: {'criterion': 'entropy', 'max_depth': 1000, 'n_estimators': 10}\n",
      "Melhor acurácia média: 0.9352500000000001\n",
      "              precision    recall  f1-score   support\n",
      "\n",
      "           0       0.93      0.95      0.94       147\n",
      "           1       0.93      0.94      0.94       161\n",
      "           2       0.89      0.94      0.92       150\n",
      "           3       0.88      0.91      0.90       147\n",
      "           4       0.92      0.94      0.93       155\n",
      "           5       0.96      0.90      0.93       157\n",
      "           6       0.81      0.93      0.87       151\n",
      "           7       0.93      0.97      0.95       158\n",
      "           8       0.88      0.91      0.89       161\n",
      "           9       0.97      0.93      0.95       153\n",
      "          10       0.96      0.99      0.98       158\n",
      "          11       0.90      0.94      0.92       148\n",
      "          12       0.91      0.90      0.91       154\n",
      "          13       0.94      0.93      0.94       150\n",
      "          14       0.95      0.90      0.92       157\n",
      "          15       0.99      0.97      0.98       152\n",
      "          16       0.96      0.96      0.96       157\n",
      "          17       0.98      0.94      0.96       157\n",
      "          18       0.96      0.88      0.92       151\n",
      "          19       0.97      0.99      0.98       150\n",
      "          20       0.97      0.96      0.97       163\n",
      "          21       0.97      0.94      0.96       159\n",
      "          22       0.98      0.94      0.96       147\n",
      "          23       0.95      0.92      0.93       155\n",
      "          24       0.90      0.93      0.91       153\n",
      "          25       0.94      0.87      0.91       149\n",
      "\n",
      "    accuracy                           0.93      4000\n",
      "   macro avg       0.94      0.93      0.93      4000\n",
      "weighted avg       0.94      0.93      0.93      4000\n",
      "\n"
     ]
    }
   ],
   "source": [
    "model = RandomForestClassifier()\n",
    "\n",
    "parameters = {'criterion' : ['gini', 'entropy', 'log_loss'],\n",
    "              'n_estimators':[1, 10],\n",
    "              'max_depth':[1, 10, 100, 1000]\n",
    "              }\n",
    "\n",
    "grid = GridSearchCV(estimator = model,             # \n",
    "                    param_grid = parameters,       # dicionário com valores para serem testados (Pares Chave-Valor)\n",
    "                    scoring = 'accuracy',          # métrica de avaliação\n",
    "                    cv = kf)                        # cross-validation\n",
    "\n",
    "grid.fit(X_train, y_train)\n",
    "\n",
    "y_pred = grid.predict(X_test)\n",
    "\n",
    "print(\"Melhores parâmetros:\", grid.best_params_)\n",
    "print(\"Melhor acurácia média:\", grid.best_score_)         \n",
    "# performance no dataset de teste\n",
    "print(classification_report(y_test, grid.predict(X_test)))"
   ]
  },
  {
   "cell_type": "markdown",
   "metadata": {},
   "source": [
    "## Métricas"
   ]
  },
  {
   "cell_type": "markdown",
   "metadata": {},
   "source": [
    "### Matriz de confusão"
   ]
  },
  {
   "cell_type": "markdown",
   "metadata": {},
   "source": [
    "Não aplicável."
   ]
  },
  {
   "cell_type": "code",
   "execution_count": 13,
   "metadata": {},
   "outputs": [
    {
     "data": {
      "text/plain": [
       "<sklearn.metrics._plot.confusion_matrix.ConfusionMatrixDisplay at 0x24a1e6652d0>"
      ]
     },
     "execution_count": 13,
     "metadata": {},
     "output_type": "execute_result"
    },
    {
     "data": {
      "image/png": "[encoded data removed]",
      "text/plain": [
       "<Figure size 640x480 with 2 Axes>"
      ]
     },
     "metadata": {},
     "output_type": "display_data"
    }
   ],
   "source": [
    "ConfusionMatrixDisplay(confusion_matrix=confusion_matrix(y_test, y_pred, labels=df_data['class'].unique()),display_labels=df_data['class'].unique()).plot()"
   ]
  },
  {
   "cell_type": "markdown",
   "metadata": {},
   "source": [
    "### ROC"
   ]
  },
  {
   "cell_type": "markdown",
   "metadata": {},
   "source": [
    "Não aplicável, pois utiliza-se 16 parâmetros."
   ]
  },
  {
   "cell_type": "code",
   "execution_count": 9,
   "metadata": {},
   "outputs": [],
   "source": [
    "#fpr, tpr, thresholds = roc_curve(y_test, y_pred)\n",
    "##Área sob a curva ROC (AUC)\n",
    "#roc_auc = auc(fpr, tpr)\n",
    "#disp_roc_curve = RocCurveDisplay(fpr=fpr, tpr=tpr, roc_auc=roc_auc,\n",
    "#                                 estimator_name=model.__class__.__name__)\n",
    "#disp_roc_curve.plot()"
   ]
  },
  {
   "cell_type": "markdown",
   "metadata": {},
   "source": [
    "### Erro médio quadrático"
   ]
  },
  {
   "cell_type": "code",
   "execution_count": 10,
   "metadata": {},
   "outputs": [
    {
     "name": "stdout",
     "output_type": "stream",
     "text": [
      "MSE: 7.206\n"
     ]
    }
   ],
   "source": [
    "print(\"MSE:\", mean_squared_error(y_test, y_pred))"
   ]
  },
  {
   "cell_type": "markdown",
   "metadata": {},
   "source": [
    "### R2 Score"
   ]
  },
  {
   "cell_type": "code",
   "execution_count": 11,
   "metadata": {},
   "outputs": [
    {
     "name": "stdout",
     "output_type": "stream",
     "text": [
      "R2_score: 0.8711050484732485\n"
     ]
    }
   ],
   "source": [
    "print(\"R2_score:\", r2_score(y_test, y_pred))"
   ]
  },
  {
   "cell_type": "markdown",
   "metadata": {},
   "source": [
    "### Accuracy Score"
   ]
  },
  {
   "cell_type": "code",
   "execution_count": 12,
   "metadata": {},
   "outputs": [
    {
     "name": "stdout",
     "output_type": "stream",
     "text": [
      "Accuracy score: 0.93475\n"
     ]
    }
   ],
   "source": [
    "print(\"Accuracy score:\", accuracy_score(y_test,y_pred))"
   ]
  }
 ],
 "metadata": {
  "kernelspec": {
   "display_name": "Python 3",
   "language": "python",
   "name": "python3"
  },
  "language_info": {
   "codemirror_mode": {
    "name": "ipython",
    "version": 3
   },
   "file_extension": ".py",
   "mimetype": "text/x-python",
   "name": "python",
   "nbconvert_exporter": "python",
   "pygments_lexer": "ipython3",
   "version": "3.11.0"
  }
 },
 "nbformat": 4,
 "nbformat_minor": 2
}
